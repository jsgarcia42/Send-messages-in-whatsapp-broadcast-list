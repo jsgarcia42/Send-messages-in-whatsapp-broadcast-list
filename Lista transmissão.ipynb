{
 "cells": [
  {
   "cell_type": "code",
   "execution_count": 1,
   "id": "63a6d72a",
   "metadata": {},
   "outputs": [],
   "source": [
    "from selenium import webdriver\n",
    "from selenium.webdriver.common.keys import Keys\n",
    "import os \n",
    "import time\n",
    "from confige import CHROME_DATA_PATH\n",
    "import pandas\n",
    "import calendar\n",
    "from datetime import date\n",
    "from datetime import datetime\n",
    "from selenium.webdriver.support.ui import WebDriverWait\n",
    "\n",
    "# set brownser to keep configs\n",
    "os.system(\"taskkill /im chrome.exe /f\")\n",
    "options = webdriver.ChromeOptions()\n",
    "options.add_argument(CHROME_DATA_PATH)\n",
    "\n",
    "# set variables\n",
    "browser = webdriver.Chrome(executable_path='chromedriver.exe', options=options)\n",
    "today = date.today()\n",
    "\n",
    "# opem browser\n",
    "browser.get(\"https://web.whatsapp.com/\")\n",
    "browser.maximize_window()\n",
    "browser.implicitly_wait(10)\n",
    "\n",
    "# wait to open wpp\n",
    "while len(browser.find_elements_by_id('side')) < 1:"
   ]
  },
  {
   "cell_type": "markdown",
   "id": "62b2e39d",
   "metadata": {},
   "source": [
    "# Get lists and datetime in sheets"
   ]
  },
  {
   "cell_type": "code",
   "execution_count": 2,
   "id": "c69161c1",
   "metadata": {},
   "outputs": [],
   "source": [
    "# get sheets data\n",
    "googleSheetID = '1Km0D9VDdPjlrXkD8Yf15K7yRpAamnnxfxFd5jDT6UoQ'\n",
    "worksheetName = 'Listas'\n",
    "URL = 'https://docs.google.com/spreadsheets/d/{0}/gviz/tq?tqx=out:csv&sheet={1}'.format(googleSheetID,worksheetName)\n",
    "\n",
    "# create dataframe\n",
    "dfListas = pandas.read_csv(URL)\n",
    "\n",
    "# transform df in lists\n",
    "listNomes = dfListas['Nome Lista'].values.tolist()\n",
    "listDatas = dfListas['Data Criação'].values.tolist()\n",
    "listTipos = dfListas['Tipo Lista'].values.tolist()\n",
    "listID = dfListas['ID'].values.tolist()"
   ]
  },
  {
   "cell_type": "markdown",
   "id": "01d05822",
   "metadata": {},
   "source": [
    "# Get sheets messages"
   ]
  },
  {
   "cell_type": "code",
   "execution_count": 3,
   "id": "39b88115",
   "metadata": {},
   "outputs": [],
   "source": [
    "# get sheets data\n",
    "googleSheetID = '1Km0D9VDdPjlrXkD8Yf15K7yRpAamnnxfxFd5jDT6UoQ'\n",
    "worksheetName = 'PercaPeso'\n",
    "URL = 'https://docs.google.com/spreadsheets/d/{0}/gviz/tq?tqx=out:csv&sheet={1}'.format(googleSheetID,worksheetName)\n",
    "\n",
    "# create dataframe\n",
    "dfMsg1 = pandas.read_csv(URL)\n",
    "\n",
    "# transform df in lists\n",
    "listMsgPercaPeso = dfMsg1['Mensagem'].values.tolist()"
   ]
  },
  {
   "cell_type": "markdown",
   "id": "1e51efbb",
   "metadata": {},
   "source": [
    "# Get Bank slip messages in sheets"
   ]
  },
  {
   "cell_type": "code",
   "execution_count": null,
   "id": "5ee0c8a0",
   "metadata": {},
   "outputs": [],
   "source": [
    "# get sheets data\n",
    "googleSheetID = '1Km0D9VDdPjlrXkD8Yf15K7yRpAamnnxfxFd5jDT6UoQ'\n",
    "worksheetName = 'Boleto'\n",
    "URL = 'https://docs.google.com/spreadsheets/d/{0}/gviz/tq?tqx=out:csv&sheet={1}'.format(googleSheetID,worksheetName)\n",
    "\n",
    "# create dataframe\n",
    "dfMsg2 = pandas.read_csv(URL)\n",
    "\n",
    "# transform df in lists\n",
    "listMsgBoleto = dfMsg2['Mensagem'].values.tolist()"
   ]
  },
  {
   "cell_type": "markdown",
   "id": "fda8ddbe",
   "metadata": {},
   "source": [
    "# Search list function"
   ]
  },
  {
   "cell_type": "code",
   "execution_count": 5,
   "id": "04d1dcb3",
   "metadata": {},
   "outputs": [],
   "source": [
    "def buscar_lista(lista):\n",
    "    campo_pesquisa = browser.find_element_by_xpath('//*[@id=\"side\"]/div[1]/div/label/div/div[2]')\n",
    "    time.sleep(2)\n",
    "    campo_pesquisa.click()\n",
    "    campo_pesquisa.send_keys(lista)\n",
    "    campo_pesquisa.send_keys(Keys.ENTER)"
   ]
  },
  {
   "cell_type": "markdown",
   "id": "6a5786a0",
   "metadata": {},
   "source": [
    "# Send message function"
   ]
  },
  {
   "cell_type": "code",
   "execution_count": 6,
   "id": "063c90a0",
   "metadata": {},
   "outputs": [],
   "source": [
    "def enviar_mensagem(mensagemDia1):\n",
    "    campo_mensagem = browser.find_element_by_xpath('//*[@id=\"main\"]/footer/div[1]/div/span[2]/div/div[2]/div[1]/div/div[2]')\n",
    "    campo_mensagem.click()\n",
    "    campo_mensagem.send_keys(mensagemDia1)\n",
    "    campo_mensagem.send_keys(Keys.ENTER)"
   ]
  },
  {
   "cell_type": "markdown",
   "id": "18a210ca",
   "metadata": {},
   "source": [
    "# Send message to all lists"
   ]
  },
  {
   "cell_type": "code",
   "execution_count": 7,
   "id": "87f43b0f",
   "metadata": {},
   "outputs": [
    {
     "name": "stdout",
     "output_type": "stream",
     "text": [
      "\n",
      "Mensagens enviadas com sucesso!\n"
     ]
    }
   ],
   "source": [
    "errorList = []\n",
    "\n",
    "for numberID in listID:\n",
    "    try:\n",
    "        # set variables\n",
    "        nomeLista = (listNomes[numberID])\n",
    "        dataLista = (listDatas[numberID])\n",
    "        tipoLista = (listTipos[numberID])\n",
    "\n",
    "        # set how many days the messages will be sent\n",
    "        datetime_object = datetime.strptime(dataLista, '%d/%m/%Y').date()\n",
    "        dias = abs((datetime_object - today))\n",
    "        dias = dias.days\n",
    "\n",
    "        # set wich message will be sent based in the curret day\n",
    "        if tipoLista == 'Boleto':\n",
    "            msgLista = (listMsgBoleto[dias])\n",
    "        else:\n",
    "            msgLista = (listMsgPercaPeso[dias])\n",
    "        \n",
    "        if type(msgLista) == str:\n",
    "            # busca lista de transmissão e envia mensagem\n",
    "            buscar_lista(nomeLista)\n",
    "            enviar_mensagem(msgLista)\n",
    "            time.sleep(1)\n",
    "        else:\n",
    "            pass\n",
    "        \n",
    "    except:\n",
    "        errorList.append(nomeLista)\n",
    "\n",
    "\n",
    "# test error while sent messages\n",
    "if len(errorList) > 0:\n",
    "    print('\\nPode ter ocorrido erro com o envio de mensagens nas listas a seguir:')\n",
    "    for lista in errorList:\n",
    "        print(lista)\n",
    "        print('\\nCertifique-se que o nome da lista está igual ao digitado no Whatsapp, o tipo da lista foi setado e que a mensagem não contém emotes')\n",
    "else:\n",
    "    print('\\nMensagens enviadas com sucesso!')\n"
   ]
  },
  {
   "cell_type": "code",
   "execution_count": null,
   "id": "bb190b23",
   "metadata": {},
   "outputs": [],
   "source": []
  }
 ],
 "metadata": {
  "kernelspec": {
   "display_name": "Python 3",
   "language": "python",
   "name": "python3"
  },
  "language_info": {
   "codemirror_mode": {
    "name": "ipython",
    "version": 3
   },
   "file_extension": ".py",
   "mimetype": "text/x-python",
   "name": "python",
   "nbconvert_exporter": "python",
   "pygments_lexer": "ipython3",
   "version": "3.8.8"
  }
 },
 "nbformat": 4,
 "nbformat_minor": 5
}
